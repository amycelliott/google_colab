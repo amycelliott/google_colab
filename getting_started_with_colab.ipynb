{
  "nbformat": 4,
  "nbformat_minor": 0,
  "metadata": {
    "colab": {
      "provenance": [],
      "collapsed_sections": [],
      "toc_visible": true,
      "authorship_tag": "ABX9TyP3+9H4UfvTDSahoQicFdSL",
      "include_colab_link": true
    },
    "kernelspec": {
      "name": "python3",
      "display_name": "Python 3"
    },
    "language_info": {
      "name": "python"
    }
  },
  "cells": [
    {
      "cell_type": "markdown",
      "metadata": {
        "id": "view-in-github",
        "colab_type": "text"
      },
      "source": [
        "<a href=\"https://colab.research.google.com/github/amycelliott/google_colab/blob/main/getting_started_with_colab.ipynb\" target=\"_parent\"><img src=\"https://colab.research.google.com/assets/colab-badge.svg\" alt=\"Open In Colab\"/></a>"
      ]
    },
    {
      "cell_type": "markdown",
      "source": [
        "# Overview\n",
        "\n",
        "I created this notebook to help others who might be trying to import data into a python notebook to analize.  When I started I had never used a python notebook and my experience with python was very limited.  I found a lot of great resources, (listed below) that helped me get started.  \n",
        "\n",
        "**Summary**\n",
        "\n",
        "* I found the easieast way to import my own data is to save it as a CSV, upload to GitHub, and pull it in via a public GitHub repo\n",
        "\n",
        "* You can use Google Drive files, but it will connect to all of google drive, not just one folder.  I wasn't sure how this would work with a shared notebook so I opted to not use this function.  I might test this feature with my son at some point add add more notes.\n",
        "\n",
        "* You can share the notebook with others and both be working on it at the same time.\n",
        "\n",
        "* Once you import the data in, you can use the data frame (Import Files step 2) to do additional analysis and visualization.\n",
        "\n",
        "**Resources**\n",
        "\n",
        "* https://neptune.ai/blog/google-colab-dealing-with-files ← This site talks about different ways to import data into Google Colab.  I struggled and found this Stack Overflow helpful.  In short, I used the suggested answer and upload the file.  I also noted that it may not work the best in Safari (that’s what I’m using).  They suggested using Google Chrome.\n",
        "* https://colab.research.google.com/gist/pimlock/91e0021e53f24ea7e1244829e5235712/loading-data-into-dataframe.ipynb#scrollTo=pJLjOxlmF4iG ← I found this helpful when trying to understand how to get started.\n",
        "* https://stackoverflow.com/questions/55240330/how-to-read-csv-file-from-github-using-pandas ← This helped me figure out how to get the link of the CSV file from GitHub"
      ],
      "metadata": {
        "id": "l2jtjOffAe9R"
      }
    },
    {
      "cell_type": "markdown",
      "source": [
        "# Help / Notes\n",
        "\n",
        "I'm new to Pandas, so the below is a way to search and see what is there.  This can be used to evaluate some of the data.  One of the examples has me using data frames, so I used that as the example of how to drill down.\n",
        "\n",
        "dr(pd) <-- List of Everything\n",
        "\n",
        "dr(pd.DataFrame) <-- List of what you can do with a Data Frame"
      ],
      "metadata": {
        "id": "qH_xmvuQ6C_q"
      }
    },
    {
      "cell_type": "code",
      "execution_count": null,
      "metadata": {
        "id": "plsQXk915c3_"
      },
      "outputs": [],
      "source": [
        "import pandas as pd\n",
        "\n",
        "# This will get an overview of what can be done in Pandas\n",
        "#dir(pd)\n",
        "\n",
        "# To drill down to the next level of Pandas - DataFrames for example\n",
        "dir(pd.DataFrame)"
      ]
    },
    {
      "cell_type": "markdown",
      "source": [
        "# Dependencies\n",
        "\n",
        "\n",
        "*  Basically load what's needed (I only loaded what I think I would use)\n",
        "*  Test and verify you are running the right version of Pandas\n",
        "*  First piece of code installs, the second checks to make sure you are running the right version of Pandas.\n",
        "\n",
        "\n",
        "\n",
        "\n",
        "\n",
        "See this website for more detail, this is what I used to get this far: https://colab.research.google.com/gist/pimlock/91e0021e53f24ea7e1244829e5235712/loading-data-into-dataframe.ipynb#scrollTo=pJLjOxlmF4iG"
      ],
      "metadata": {
        "id": "3Vcz9KGq6Ua4"
      }
    },
    {
      "cell_type": "code",
      "source": [
        "%%capture\n",
        "\n",
        "!pip install -U pandas~=1.2.4\n",
        "\n",
        "# required only when reading Excel files\n",
        "!pip install -U xlrd~=1.2.0\n",
        "\n",
        "# plotly is used for simple visualizations.\n",
        "!pip install -U plotly"
      ],
      "metadata": {
        "id": "6tX4c_4h6e-E"
      },
      "execution_count": 1,
      "outputs": []
    },
    {
      "cell_type": "code",
      "source": [
        "# verify pandas version (this notebook requires pandas=1.2.0 or higher)\n",
        "import pandas as pd\n",
        "\n",
        "# pd.show_versions()\n",
        "\n",
        "if pd.__version__ < \"1.2.0\":\n",
        "  raise Exception(\"This notebook requires pandas version to be > 1.2.0. \"\n",
        "    f\"pandas version in this notebook is {pd.__version__}. \"\n",
        "    \"If you run into this issue, you will need to restart the runtime \"\n",
        "    \"selecting 'Runtime -> Restart and run all'\"\n",
        "  )"
      ],
      "metadata": {
        "id": "dCXXHzNM6wxp"
      },
      "execution_count": 2,
      "outputs": []
    },
    {
      "cell_type": "markdown",
      "source": [
        "# Logging\n",
        "\n",
        "Not sure, but this could be helpful...Also got this from this website: https://colab.research.google.com/gist/pimlock/91e0021e53f24ea7e1244829e5235712/loading-data-into-dataframe.ipynb#scrollTo=pJLjOxlmF4iG"
      ],
      "metadata": {
        "id": "mdyEzVzb60dP"
      }
    },
    {
      "cell_type": "code",
      "source": [
        "import logging, sys\n",
        "\n",
        "logging.basicConfig(\n",
        "    format=\"%(asctime)s.%(msecs)03dZ - %(levelname)s - %(name)s - %(message)s\",\n",
        "    datefmt=\"%Y-%m-%dT%H:%M:%S\",\n",
        "    level=logging.INFO,\n",
        "    stream=sys.stdout\n",
        ")\n",
        "\n",
        "logger = logging.getLogger(__name__)\n",
        "\n",
        "logging.getLogger('botocore').setLevel(logging.INFO)\n",
        "logging.getLogger('fsspec').setLevel(logging.DEBUG)"
      ],
      "metadata": {
        "id": "c3butIVA67mW"
      },
      "execution_count": 3,
      "outputs": []
    },
    {
      "cell_type": "markdown",
      "source": [
        "# Import Files \n",
        "\n",
        "**Step 1: Import from GitHub**\n",
        "\n",
        "Notes\n",
        "\n",
        "* I read that we need to use the URL to raw content, I saw that you can just put ?raw=true at the end of the url.  It appeared to work when I looked in the browser.\n",
        "\n",
        "* The test data came from: https://www.kaggle.com/datasets/vijayaadithyanvg/car-price-predictionused-cars?resource=download\n",
        "\n",
        "\n",
        "* All Data is in this file\n",
        "https://github.com/amycelliott/google_colab/blob/main/car%20data.csv?raw=true\n",
        "\n",
        "\n",
        "* Also got this from this website: https://colab.research.google.com/gist/pimlock/91e0021e53f24ea7e1244829e5235712/loading-data-into-dataframe.ipynb#scrollTo=pJLjOxlmF4iG\n",
        "\n",
        "* car_data_csv_path is a custom variable that I created, basic description \"car_data\", and added \"csv_path\" so I knew what type of variable it was.\n"
      ],
      "metadata": {
        "id": "6Ddtpztz6_OW"
      }
    },
    {
      "cell_type": "code",
      "source": [
        "from tempfile import mkdtemp\n",
        "from urllib.request import urlretrieve\n",
        "\n",
        "tmp_dir = mkdtemp()\n",
        "\n",
        "# CSV to load from disk\n",
        "# Upload Region Basic Fields\n",
        "car_data_csv_path = f\"{tmp_dir}/Regions_Basic_Fields.csv\"\n",
        "urlretrieve(\"https://github.com/amycelliott/google_colab/blob/main/car%20data.csv?raw=true\", car_data_csv_path)\n",
        "logger.info(f\"Downloaded sample CSV file to {car_data_csv_path}\")\n"
      ],
      "metadata": {
        "id": "Gd8YKZCw9JHe"
      },
      "execution_count": 4,
      "outputs": []
    },
    {
      "cell_type": "markdown",
      "source": [
        "**Step 2: Load CSV For Region Basic Data**\n",
        "\n",
        "Also got this from this website: https://colab.research.google.com/gist/pimlock/91e0021e53f24ea7e1244829e5235712/loading-data-into-dataframe.ipynb#scrollTo=pJLjOxlmF4iG\n",
        "\n",
        "Take the temporary file and put it into a Pandas Data Frame\n",
        "\n",
        "* df_car_data is a custom variable, this is the data frame.  I start with df_ so you know what it is."
      ],
      "metadata": {
        "id": "wsnHipYN9grv"
      }
    },
    {
      "cell_type": "code",
      "source": [
        "import pandas as pd\n",
        "import numpy as np\n",
        "\n",
        "df_car_data = pd.read_csv(\n",
        "    car_data_csv_path, \n",
        "    # if your dataset doesn't have column names in the first row, you need to specify them like this\n",
        "    # you can keep the below commented out if you do have headers in the first row\n",
        "    #header=0, names=[\"field 1\", \"field 2\", \"field 3\", \"field 4\"]\n",
        ")\n",
        "\n",
        "df_car_data.info()\n",
        "\n",
        "# after loading, we can explore the data in all different ways pandas support\n",
        "# No need to do this yet\n",
        "# df_car_data = df_car_data.sort_values('year', ascending=False)"
      ],
      "metadata": {
        "colab": {
          "base_uri": "https://localhost:8080/"
        },
        "id": "Z05HIbn79uoA",
        "outputId": "30754a62-5ba4-460f-b8fd-69df00c70b01"
      },
      "execution_count": 5,
      "outputs": [
        {
          "output_type": "stream",
          "name": "stdout",
          "text": [
            "<class 'pandas.core.frame.DataFrame'>\n",
            "RangeIndex: 301 entries, 0 to 300\n",
            "Data columns (total 9 columns):\n",
            " #   Column         Non-Null Count  Dtype  \n",
            "---  ------         --------------  -----  \n",
            " 0   Car_Name       301 non-null    object \n",
            " 1   Year           301 non-null    int64  \n",
            " 2   Selling_Price  301 non-null    float64\n",
            " 3   Present_Price  301 non-null    float64\n",
            " 4   Driven_kms     301 non-null    int64  \n",
            " 5   Fuel_Type      301 non-null    object \n",
            " 6   Selling_type   301 non-null    object \n",
            " 7   Transmission   301 non-null    object \n",
            " 8   Owner          301 non-null    int64  \n",
            "dtypes: float64(2), int64(3), object(4)\n",
            "memory usage: 21.3+ KB\n"
          ]
        }
      ]
    }
  ]
}